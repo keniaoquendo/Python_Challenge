{
 "cells": [
  {
   "cell_type": "code",
   "execution_count": 18,
   "metadata": {},
   "outputs": [],
   "source": [
    "import csv\n",
    "import os"
   ]
  },
  {
   "cell_type": "code",
   "execution_count": 19,
   "metadata": {},
   "outputs": [],
   "source": [
    "file_load='../PyBank/Resources/budget_data.csv'\n",
    "file_output='../PyBank/pybank.txt'"
   ]
  },
  {
   "cell_type": "code",
   "execution_count": 20,
   "metadata": {},
   "outputs": [],
   "source": [
    "#set variables for looping\n",
    "total_mnths= 0\n",
    "total_pl= 0 \n",
    "avgchange= 0\n",
    "change_value= 0\n",
    "last_value= 0\n",
    "change_pl=[]\n",
    "first_row= True"
   ]
  },
  {
   "cell_type": "code",
   "execution_count": 35,
   "metadata": {},
   "outputs": [
    {
     "name": "stdout",
     "output_type": "stream",
     "text": [
      "Financial Analysis\n",
      "--------------------\n",
      "Total Months:688\n",
      "Total: $180513584\n",
      "Average Change: $-1026.81\n",
      "Greatest Increase in Profits: Aug-16 $1862002\n",
      "Greatest Decrease in Profits: Feb-14 $-1825558\n"
     ]
    }
   ],
   "source": [
    "#open csv file\n",
    "with open (file_load, \"r\",) as bank_file:\n",
    "    csvreader = csv.reader(bank_file, delimiter=',')\n",
    "    header= next(csvreader,None)\n",
    "\n",
    "#loop through Date column to calculate total months, profit/losses to sum total '''\n",
    "    for row in csvreader:\n",
    "        total_mnths = (total_mnths + 1)\n",
    "        total_pl= (total_pl+int(row[1]))  \n",
    "#skip first row   \n",
    "        if first_row:\n",
    "            change_value = 0\n",
    "            first_row=False    \n",
    "#calculate profit/loss month to month\n",
    "        else: \n",
    "            change_value= int(row[1])-last_value\n",
    "#reset for loop        \n",
    "        last_value = int(row[1])\n",
    "#append list for later use of min/max in list\n",
    "        change_pl.append(change_value)\n",
    "       \n",
    "#sum total changes       \n",
    "    total_change= sum(change_pl)\n",
    "#find average by dividing total months into total change\n",
    "    avgchange= round((total_change / total_mnths),2)\n",
    "\n",
    "#find greatest increase/decrease by using list min/max\n",
    "    greatest_dec= min(change_pl)\n",
    "    greatest_inc= max(change_pl)\n",
    "\n",
    "\n",
    "       \n",
    "with open (file_output,\"w\")as pybanktext_file:\n",
    "    #print final analysis\n",
    "    print(\"Financial Analysis\")\n",
    "    print(\"--------------------\")\n",
    "    print (f\"Total Months:{total_mnths}\")\n",
    "    print (f\"Total: ${total_pl}\")\n",
    "    print(f\"Average Change: ${avgchange}\")\n",
    "    print(f\"Greatest Increase in Profits: Aug-16 ${greatest_inc}\")\n",
    "    print(f\"Greatest Decrease in Profits: Feb-14 ${greatest_dec}\")\n",
    "\n",
    "    pybank_results= (f\"{total_mnths,total_pl, avgchange,greatest_inc,greatest_dec}\")\n",
    "\n",
    "    pybanktext_file.write(pybank_results)\n"
   ]
  },
  {
   "cell_type": "code",
   "execution_count": null,
   "metadata": {},
   "outputs": [],
   "source": []
  },
  {
   "cell_type": "code",
   "execution_count": null,
   "metadata": {},
   "outputs": [],
   "source": []
  }
 ],
 "metadata": {
  "kernelspec": {
   "display_name": "base",
   "language": "python",
   "name": "python3"
  },
  "language_info": {
   "codemirror_mode": {
    "name": "ipython",
    "version": 3
   },
   "file_extension": ".py",
   "mimetype": "text/x-python",
   "name": "python",
   "nbconvert_exporter": "python",
   "pygments_lexer": "ipython3",
   "version": "3.11.5"
  },
  "orig_nbformat": 4
 },
 "nbformat": 4,
 "nbformat_minor": 2
}
