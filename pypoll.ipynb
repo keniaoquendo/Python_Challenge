{
 "cells": [
  {
   "cell_type": "code",
   "execution_count": 1,
   "metadata": {},
   "outputs": [],
   "source": [
    "import csv\n",
    "import os"
   ]
  },
  {
   "cell_type": "code",
   "execution_count": 2,
   "metadata": {},
   "outputs": [],
   "source": [
    "file='../Resources/election_data.csv'"
   ]
  },
  {
   "cell_type": "code",
   "execution_count": 3,
   "metadata": {},
   "outputs": [],
   "source": [
    "total_votes=0"
   ]
  },
  {
   "cell_type": "code",
   "execution_count": 4,
   "metadata": {},
   "outputs": [],
   "source": [
    "candidate_options=[]\n",
    "candidate_votes={}\n"
   ]
  },
  {
   "cell_type": "code",
   "execution_count": 6,
   "metadata": {},
   "outputs": [
    {
     "ename": "TypeError",
     "evalue": "'int' object is not subscriptable",
     "output_type": "error",
     "traceback": [
      "\u001b[0;31m---------------------------------------------------------------------------\u001b[0m",
      "\u001b[0;31mTypeError\u001b[0m                                 Traceback (most recent call last)",
      "Cell \u001b[0;32mIn[6], line 13\u001b[0m\n\u001b[1;32m     10\u001b[0m        candidate_options\u001b[39m.\u001b[39mappend(candidate_name) \n\u001b[1;32m     11\u001b[0m        candidate_votes[candidate_name]\u001b[39m=\u001b[39m\u001b[39m0\u001b[39m \n\u001b[0;32m---> 13\u001b[0m candidate_votes\u001b[39m=\u001b[39mcandidate_votes[candidate_name]\u001b[39m+\u001b[39m\u001b[39m1\u001b[39m\n\u001b[1;32m     15\u001b[0m \u001b[39mfor\u001b[39;00m candidate_name \u001b[39min\u001b[39;00m candidate_votes:\n\u001b[1;32m     16\u001b[0m     votes\u001b[39m=\u001b[39mcandidate_votes\u001b[39m.\u001b[39mget(candidate_name)\n",
      "\u001b[0;31mTypeError\u001b[0m: 'int' object is not subscriptable"
     ]
    }
   ],
   "source": [
    "with open (file,\"r\",) as pyfile:\n",
    "    pyreader= csv.DictReader(pyfile, delimiter=',')\n",
    "    pyheader= next(pyreader,None)\n",
    "\n",
    "    for row in pyreader:\n",
    "        total_votes= total_votes + 1\n",
    "\n",
    "        candidate_name= row[\"Candidate\"]\n",
    "        if candidate_name not in candidate_options:\n",
    "           candidate_options.append(candidate_name) \n",
    "           candidate_votes[candidate_name]=0 \n",
    "        \n",
    "    candidate_votes=candidate_votes[candidate_name]+1\n",
    "           \n",
    "    for candidate_name in candidate_votes:\n",
    "        votes=candidate_votes.get(candidate_name)\n",
    "\n",
    "\n",
    "\n",
    "\n",
    "print (total_votes)\n"
   ]
  },
  {
   "cell_type": "code",
   "execution_count": 48,
   "metadata": {},
   "outputs": [
    {
     "name": "stdout",
     "output_type": "stream",
     "text": [
      "Election Results\n",
      "-----------------\n"
     ]
    }
   ],
   "source": [
    "print(\"Election Results\")\n",
    "print(\"-----------------\")"
   ]
  }
 ],
 "metadata": {
  "kernelspec": {
   "display_name": "base",
   "language": "python",
   "name": "python3"
  },
  "language_info": {
   "codemirror_mode": {
    "name": "ipython",
    "version": 3
   },
   "file_extension": ".py",
   "mimetype": "text/x-python",
   "name": "python",
   "nbconvert_exporter": "python",
   "pygments_lexer": "ipython3",
   "version": "3.11.5"
  },
  "orig_nbformat": 4
 },
 "nbformat": 4,
 "nbformat_minor": 2
}
